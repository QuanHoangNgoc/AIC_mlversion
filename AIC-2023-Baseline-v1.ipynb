{
 "cells": [
  {
   "cell_type": "markdown",
   "id": "5fcc581b",
   "metadata": {
    "id": "5fcc581b"
   },
   "source": [
    "# BÁO CÁO ĐÁNH GIÁ DỮ LIỆU HUẤN LUYỆN VÀ TEST SET\n",
    "\n",
    "# Hội thi Thử thách Trí tuệ Nhân tạo Thành phố Hồ Chí Minh 2024\n",
    "\n",
    "## Hướng dẫn truy vấn dữ liệu thị giác dùng fiftyone\n",
    "\n",
    "Đây là hướng dẫn dùng cho các đội tham dự AI Challenge 2024. Hướng dẫn này nhằm mục đích giới thiệu cho các đội một phương pháp cơ bản để truy vấn dữ liệu dựa trên thông tin BTC cung cấp và giới thiệu công cụ fiftyone để hỗ trợ đội thi đánh giá kết quả.\n",
    "\n",
    "## Cài đặt ban đầu\n",
    "\n",
    "Bạn cần cài đặt môi trường để chạy được notebook này trên máy tính cá nhân của bạn. Hướng dẫn này không bao gồm phần cài đặt môi trường. Khuyến nghị: các bạn có thể cài đặt [Anaconda](https://docs.anaconda.com/free/anaconda/install/windows/).\n",
    "\n",
    "## Cài đặt các thư viện FiftyOne và PyTorch\n",
    "Hướng dẫn này dùng fiftyone là công cụ để trực quan dữ liệu và pytorch là backend chính cho các thuật toán máy học.\n"
   ]
  },
  {
   "cell_type": "code",
   "execution_count": 55,
   "id": "f5a576d0",
   "metadata": {
    "id": "f5a576d0"
   },
   "outputs": [
    {
     "name": "stdout",
     "output_type": "stream",
     "text": [
      "Requirement already satisfied: fiftyone==0.24.1 in c:\\users\\dtlee\\anaconda3\\lib\\site-packages (0.24.1)\n",
      "Requirement already satisfied: aiofiles in c:\\users\\dtlee\\anaconda3\\lib\\site-packages (from fiftyone==0.24.1) (24.1.0)\n",
      "Requirement already satisfied: argcomplete in c:\\users\\dtlee\\anaconda3\\lib\\site-packages (from fiftyone==0.24.1) (3.5.0)\n",
      "Requirement already satisfied: beautifulsoup4 in c:\\users\\dtlee\\anaconda3\\lib\\site-packages (from fiftyone==0.24.1) (4.12.3)\n",
      "Requirement already satisfied: boto3 in c:\\users\\dtlee\\anaconda3\\lib\\site-packages (from fiftyone==0.24.1) (1.34.158)\n",
      "Requirement already satisfied: cachetools in c:\\users\\dtlee\\anaconda3\\lib\\site-packages (from fiftyone==0.24.1) (5.3.3)\n",
      "Requirement already satisfied: dacite<1.8.0,>=1.6.0 in c:\\users\\dtlee\\anaconda3\\lib\\site-packages (from fiftyone==0.24.1) (1.7.0)\n",
      "Requirement already satisfied: Deprecated in c:\\users\\dtlee\\anaconda3\\lib\\site-packages (from fiftyone==0.24.1) (1.2.14)\n",
      "Requirement already satisfied: ftfy in c:\\users\\dtlee\\anaconda3\\lib\\site-packages (from fiftyone==0.24.1) (6.2.3)\n",
      "Requirement already satisfied: humanize in c:\\users\\dtlee\\anaconda3\\lib\\site-packages (from fiftyone==0.24.1) (4.10.0)\n",
      "Requirement already satisfied: hypercorn>=0.13.2 in c:\\users\\dtlee\\anaconda3\\lib\\site-packages (from fiftyone==0.24.1) (0.17.3)\n",
      "Requirement already satisfied: Jinja2==3.0.3 in c:\\users\\dtlee\\anaconda3\\lib\\site-packages (from fiftyone==0.24.1) (3.0.3)\n",
      "Requirement already satisfied: kaleido!=0.2.1.post1 in c:\\users\\dtlee\\anaconda3\\lib\\site-packages (from fiftyone==0.24.1) (0.2.1)\n",
      "Requirement already satisfied: matplotlib in c:\\users\\dtlee\\anaconda3\\lib\\site-packages (from fiftyone==0.24.1) (3.8.4)\n",
      "Requirement already satisfied: mongoengine==0.24.2 in c:\\users\\dtlee\\anaconda3\\lib\\site-packages (from fiftyone==0.24.1) (0.24.2)\n",
      "Requirement already satisfied: motor>=2.5 in c:\\users\\dtlee\\anaconda3\\lib\\site-packages (from fiftyone==0.24.1) (3.5.1)\n",
      "Requirement already satisfied: numpy in c:\\users\\dtlee\\anaconda3\\lib\\site-packages (from fiftyone==0.24.1) (1.26.4)\n",
      "Requirement already satisfied: packaging in c:\\users\\dtlee\\appdata\\roaming\\python\\python312\\site-packages (from fiftyone==0.24.1) (24.0)\n",
      "Requirement already satisfied: pandas in c:\\users\\dtlee\\appdata\\roaming\\python\\python312\\site-packages (from fiftyone==0.24.1) (2.2.2)\n",
      "Requirement already satisfied: Pillow>=6.2 in c:\\users\\dtlee\\anaconda3\\lib\\site-packages (from fiftyone==0.24.1) (10.3.0)\n",
      "Requirement already satisfied: plotly>=4.14 in c:\\users\\dtlee\\anaconda3\\lib\\site-packages (from fiftyone==0.24.1) (5.22.0)\n",
      "Requirement already satisfied: pprintpp in c:\\users\\dtlee\\anaconda3\\lib\\site-packages (from fiftyone==0.24.1) (0.4.0)\n",
      "Requirement already satisfied: psutil in c:\\users\\dtlee\\anaconda3\\lib\\site-packages (from fiftyone==0.24.1) (5.9.0)\n",
      "Requirement already satisfied: pymongo>=3.12 in c:\\users\\dtlee\\anaconda3\\lib\\site-packages (from fiftyone==0.24.1) (4.8.0)\n",
      "Requirement already satisfied: pytz in c:\\users\\dtlee\\appdata\\roaming\\python\\python312\\site-packages (from fiftyone==0.24.1) (2024.1)\n",
      "Requirement already satisfied: PyYAML in c:\\users\\dtlee\\appdata\\roaming\\python\\python312\\site-packages (from fiftyone==0.24.1) (6.0.1)\n",
      "Requirement already satisfied: regex in c:\\users\\dtlee\\anaconda3\\lib\\site-packages (from fiftyone==0.24.1) (2023.10.3)\n",
      "Requirement already satisfied: retrying in c:\\users\\dtlee\\anaconda3\\lib\\site-packages (from fiftyone==0.24.1) (1.3.4)\n",
      "Requirement already satisfied: scikit-learn in c:\\users\\dtlee\\anaconda3\\lib\\site-packages (from fiftyone==0.24.1) (1.4.2)\n",
      "Requirement already satisfied: scikit-image in c:\\users\\dtlee\\anaconda3\\lib\\site-packages (from fiftyone==0.24.1) (0.23.2)\n",
      "Requirement already satisfied: scipy in c:\\users\\dtlee\\appdata\\roaming\\python\\python312\\site-packages (from fiftyone==0.24.1) (1.13.0)\n",
      "Requirement already satisfied: setuptools in c:\\users\\dtlee\\anaconda3\\lib\\site-packages (from fiftyone==0.24.1) (69.5.1)\n",
      "Requirement already satisfied: sseclient-py<2,>=1.7.2 in c:\\users\\dtlee\\anaconda3\\lib\\site-packages (from fiftyone==0.24.1) (1.8.0)\n",
      "Requirement already satisfied: sse-starlette<1,>=0.10.3 in c:\\users\\dtlee\\anaconda3\\lib\\site-packages (from fiftyone==0.24.1) (0.10.3)\n",
      "Requirement already satisfied: starlette>=0.24.0 in c:\\users\\dtlee\\anaconda3\\lib\\site-packages (from fiftyone==0.24.1) (0.38.2)\n",
      "Requirement already satisfied: strawberry-graphql==0.138.1 in c:\\users\\dtlee\\anaconda3\\lib\\site-packages (from fiftyone==0.24.1) (0.138.1)\n",
      "Requirement already satisfied: tabulate in c:\\users\\dtlee\\anaconda3\\lib\\site-packages (from fiftyone==0.24.1) (0.9.0)\n",
      "Requirement already satisfied: xmltodict in c:\\users\\dtlee\\anaconda3\\lib\\site-packages (from fiftyone==0.24.1) (0.13.0)\n",
      "Requirement already satisfied: universal-analytics-python3<2,>=1.0.1 in c:\\users\\dtlee\\anaconda3\\lib\\site-packages (from fiftyone==0.24.1) (1.1.1)\n",
      "Requirement already satisfied: fiftyone-brain<0.17,>=0.16.1 in c:\\users\\dtlee\\anaconda3\\lib\\site-packages (from fiftyone==0.24.1) (0.16.1)\n",
      "Requirement already satisfied: fiftyone-db<2.0,>=0.4 in c:\\users\\dtlee\\anaconda3\\lib\\site-packages (from fiftyone==0.24.1) (1.1.5)\n",
      "Requirement already satisfied: voxel51-eta<0.13,>=0.12.6 in c:\\users\\dtlee\\anaconda3\\lib\\site-packages (from fiftyone==0.24.1) (0.12.7)\n",
      "Requirement already satisfied: opencv-python-headless in c:\\users\\dtlee\\anaconda3\\lib\\site-packages (from fiftyone==0.24.1) (4.10.0.84)\n",
      "Requirement already satisfied: MarkupSafe>=2.0 in c:\\users\\dtlee\\anaconda3\\lib\\site-packages (from Jinja2==3.0.3->fiftyone==0.24.1) (2.1.3)\n",
      "Requirement already satisfied: graphql-core<3.3.0,>=3.2.0 in c:\\users\\dtlee\\anaconda3\\lib\\site-packages (from strawberry-graphql==0.138.1->fiftyone==0.24.1) (3.2.3)\n",
      "Requirement already satisfied: python-dateutil<3.0.0,>=2.7.0 in c:\\users\\dtlee\\appdata\\roaming\\python\\python312\\site-packages (from strawberry-graphql==0.138.1->fiftyone==0.24.1) (2.9.0.post0)\n",
      "Requirement already satisfied: typing_extensions<5.0.0,>=3.7.4 in c:\\users\\dtlee\\anaconda3\\lib\\site-packages (from strawberry-graphql==0.138.1->fiftyone==0.24.1) (4.11.0)\n",
      "Requirement already satisfied: h11 in c:\\users\\dtlee\\anaconda3\\lib\\site-packages (from hypercorn>=0.13.2->fiftyone==0.24.1) (0.14.0)\n",
      "Requirement already satisfied: h2>=3.1.0 in c:\\users\\dtlee\\anaconda3\\lib\\site-packages (from hypercorn>=0.13.2->fiftyone==0.24.1) (4.1.0)\n",
      "Requirement already satisfied: priority in c:\\users\\dtlee\\anaconda3\\lib\\site-packages (from hypercorn>=0.13.2->fiftyone==0.24.1) (2.0.0)\n",
      "Requirement already satisfied: wsproto>=0.14.0 in c:\\users\\dtlee\\anaconda3\\lib\\site-packages (from hypercorn>=0.13.2->fiftyone==0.24.1) (1.2.0)\n",
      "Requirement already satisfied: tenacity>=6.2.0 in c:\\users\\dtlee\\anaconda3\\lib\\site-packages (from plotly>=4.14->fiftyone==0.24.1) (8.2.2)\n",
      "Requirement already satisfied: dnspython<3.0.0,>=1.16.0 in c:\\users\\dtlee\\anaconda3\\lib\\site-packages (from pymongo>=3.12->fiftyone==0.24.1) (2.6.1)\n",
      "Requirement already satisfied: anyio<5,>=3.4.0 in c:\\users\\dtlee\\anaconda3\\lib\\site-packages (from starlette>=0.24.0->fiftyone==0.24.1) (4.2.0)\n",
      "Requirement already satisfied: httpx>=0.10.0 in c:\\users\\dtlee\\anaconda3\\lib\\site-packages (from universal-analytics-python3<2,>=1.0.1->fiftyone==0.24.1) (0.26.0)\n",
      "Requirement already satisfied: dill in c:\\users\\dtlee\\anaconda3\\lib\\site-packages (from voxel51-eta<0.13,>=0.12.6->fiftyone==0.24.1) (0.3.8)\n",
      "Requirement already satisfied: future in c:\\users\\dtlee\\anaconda3\\lib\\site-packages (from voxel51-eta<0.13,>=0.12.6->fiftyone==0.24.1) (1.0.0)\n",
      "Requirement already satisfied: glob2 in c:\\users\\dtlee\\anaconda3\\lib\\site-packages (from voxel51-eta<0.13,>=0.12.6->fiftyone==0.24.1) (0.7)\n",
      "Requirement already satisfied: jsonlines in c:\\users\\dtlee\\anaconda3\\lib\\site-packages (from voxel51-eta<0.13,>=0.12.6->fiftyone==0.24.1) (4.0.0)\n",
      "Requirement already satisfied: py7zr in c:\\users\\dtlee\\anaconda3\\lib\\site-packages (from voxel51-eta<0.13,>=0.12.6->fiftyone==0.24.1) (0.22.0)\n",
      "Requirement already satisfied: rarfile in c:\\users\\dtlee\\anaconda3\\lib\\site-packages (from voxel51-eta<0.13,>=0.12.6->fiftyone==0.24.1) (4.2)\n",
      "Requirement already satisfied: requests in c:\\users\\dtlee\\anaconda3\\lib\\site-packages (from voxel51-eta<0.13,>=0.12.6->fiftyone==0.24.1) (2.32.2)\n",
      "Requirement already satisfied: six in c:\\users\\dtlee\\appdata\\roaming\\python\\python312\\site-packages (from voxel51-eta<0.13,>=0.12.6->fiftyone==0.24.1) (1.16.0)\n",
      "Requirement already satisfied: sortedcontainers in c:\\users\\dtlee\\anaconda3\\lib\\site-packages (from voxel51-eta<0.13,>=0.12.6->fiftyone==0.24.1) (2.4.0)\n",
      "Requirement already satisfied: tzlocal in c:\\users\\dtlee\\anaconda3\\lib\\site-packages (from voxel51-eta<0.13,>=0.12.6->fiftyone==0.24.1) (5.2)\n",
      "Requirement already satisfied: urllib3 in c:\\users\\dtlee\\anaconda3\\lib\\site-packages (from voxel51-eta<0.13,>=0.12.6->fiftyone==0.24.1) (2.2.2)\n",
      "Requirement already satisfied: soupsieve>1.2 in c:\\users\\dtlee\\anaconda3\\lib\\site-packages (from beautifulsoup4->fiftyone==0.24.1) (2.5)\n",
      "Requirement already satisfied: botocore<1.35.0,>=1.34.158 in c:\\users\\dtlee\\anaconda3\\lib\\site-packages (from boto3->fiftyone==0.24.1) (1.34.158)\n",
      "Requirement already satisfied: jmespath<2.0.0,>=0.7.1 in c:\\users\\dtlee\\anaconda3\\lib\\site-packages (from boto3->fiftyone==0.24.1) (1.0.1)\n",
      "Requirement already satisfied: s3transfer<0.11.0,>=0.10.0 in c:\\users\\dtlee\\anaconda3\\lib\\site-packages (from boto3->fiftyone==0.24.1) (0.10.2)\n",
      "Requirement already satisfied: wrapt<2,>=1.10 in c:\\users\\dtlee\\anaconda3\\lib\\site-packages (from Deprecated->fiftyone==0.24.1) (1.14.1)\n",
      "Requirement already satisfied: wcwidth<0.3.0,>=0.2.12 in c:\\users\\dtlee\\anaconda3\\lib\\site-packages (from ftfy->fiftyone==0.24.1) (0.2.13)\n",
      "Requirement already satisfied: contourpy>=1.0.1 in c:\\users\\dtlee\\anaconda3\\lib\\site-packages (from matplotlib->fiftyone==0.24.1) (1.2.0)\n",
      "Requirement already satisfied: cycler>=0.10 in c:\\users\\dtlee\\anaconda3\\lib\\site-packages (from matplotlib->fiftyone==0.24.1) (0.11.0)\n",
      "Requirement already satisfied: fonttools>=4.22.0 in c:\\users\\dtlee\\anaconda3\\lib\\site-packages (from matplotlib->fiftyone==0.24.1) (4.51.0)\n",
      "Requirement already satisfied: kiwisolver>=1.3.1 in c:\\users\\dtlee\\anaconda3\\lib\\site-packages (from matplotlib->fiftyone==0.24.1) (1.4.4)\n",
      "Requirement already satisfied: pyparsing>=2.3.1 in c:\\users\\dtlee\\anaconda3\\lib\\site-packages (from matplotlib->fiftyone==0.24.1) (3.0.9)\n",
      "Requirement already satisfied: tzdata>=2022.7 in c:\\users\\dtlee\\appdata\\roaming\\python\\python312\\site-packages (from pandas->fiftyone==0.24.1) (2024.1)\n",
      "Requirement already satisfied: networkx>=2.8 in c:\\users\\dtlee\\anaconda3\\lib\\site-packages (from scikit-image->fiftyone==0.24.1) (3.2.1)\n",
      "Requirement already satisfied: imageio>=2.33 in c:\\users\\dtlee\\anaconda3\\lib\\site-packages (from scikit-image->fiftyone==0.24.1) (2.33.1)\n",
      "Requirement already satisfied: tifffile>=2022.8.12 in c:\\users\\dtlee\\anaconda3\\lib\\site-packages (from scikit-image->fiftyone==0.24.1) (2023.4.12)\n",
      "Requirement already satisfied: lazy-loader>=0.4 in c:\\users\\dtlee\\anaconda3\\lib\\site-packages (from scikit-image->fiftyone==0.24.1) (0.4)\n",
      "Requirement already satisfied: joblib>=1.2.0 in c:\\users\\dtlee\\anaconda3\\lib\\site-packages (from scikit-learn->fiftyone==0.24.1) (1.4.2)\n",
      "Requirement already satisfied: threadpoolctl>=2.0.0 in c:\\users\\dtlee\\anaconda3\\lib\\site-packages (from scikit-learn->fiftyone==0.24.1) (2.2.0)\n",
      "Requirement already satisfied: idna>=2.8 in c:\\users\\dtlee\\anaconda3\\lib\\site-packages (from anyio<5,>=3.4.0->starlette>=0.24.0->fiftyone==0.24.1) (3.7)\n",
      "Requirement already satisfied: sniffio>=1.1 in c:\\users\\dtlee\\anaconda3\\lib\\site-packages (from anyio<5,>=3.4.0->starlette>=0.24.0->fiftyone==0.24.1) (1.3.0)\n",
      "Requirement already satisfied: hyperframe<7,>=6.0 in c:\\users\\dtlee\\anaconda3\\lib\\site-packages (from h2>=3.1.0->hypercorn>=0.13.2->fiftyone==0.24.1) (6.0.1)\n",
      "Requirement already satisfied: hpack<5,>=4.0 in c:\\users\\dtlee\\anaconda3\\lib\\site-packages (from h2>=3.1.0->hypercorn>=0.13.2->fiftyone==0.24.1) (4.0.0)\n",
      "Requirement already satisfied: certifi in c:\\users\\dtlee\\appdata\\roaming\\python\\python312\\site-packages (from httpx>=0.10.0->universal-analytics-python3<2,>=1.0.1->fiftyone==0.24.1) (2024.2.2)\n",
      "Requirement already satisfied: httpcore==1.* in c:\\users\\dtlee\\anaconda3\\lib\\site-packages (from httpx>=0.10.0->universal-analytics-python3<2,>=1.0.1->fiftyone==0.24.1) (1.0.2)\n",
      "Requirement already satisfied: attrs>=19.2.0 in c:\\users\\dtlee\\anaconda3\\lib\\site-packages (from jsonlines->voxel51-eta<0.13,>=0.12.6->fiftyone==0.24.1) (23.1.0)\n",
      "Requirement already satisfied: texttable in c:\\users\\dtlee\\anaconda3\\lib\\site-packages (from py7zr->voxel51-eta<0.13,>=0.12.6->fiftyone==0.24.1) (1.7.0)\n",
      "Requirement already satisfied: pycryptodomex>=3.16.0 in c:\\users\\dtlee\\anaconda3\\lib\\site-packages (from py7zr->voxel51-eta<0.13,>=0.12.6->fiftyone==0.24.1) (3.20.0)\n",
      "Requirement already satisfied: pyzstd>=0.15.9 in c:\\users\\dtlee\\anaconda3\\lib\\site-packages (from py7zr->voxel51-eta<0.13,>=0.12.6->fiftyone==0.24.1) (0.16.1)\n",
      "Requirement already satisfied: pyppmd<1.2.0,>=1.1.0 in c:\\users\\dtlee\\anaconda3\\lib\\site-packages (from py7zr->voxel51-eta<0.13,>=0.12.6->fiftyone==0.24.1) (1.1.0)\n",
      "Requirement already satisfied: pybcj<1.1.0,>=1.0.0 in c:\\users\\dtlee\\anaconda3\\lib\\site-packages (from py7zr->voxel51-eta<0.13,>=0.12.6->fiftyone==0.24.1) (1.0.2)\n",
      "Requirement already satisfied: multivolumefile>=0.2.3 in c:\\users\\dtlee\\anaconda3\\lib\\site-packages (from py7zr->voxel51-eta<0.13,>=0.12.6->fiftyone==0.24.1) (0.2.3)\n",
      "Requirement already satisfied: inflate64<1.1.0,>=1.0.0 in c:\\users\\dtlee\\anaconda3\\lib\\site-packages (from py7zr->voxel51-eta<0.13,>=0.12.6->fiftyone==0.24.1) (1.0.0)\n",
      "Requirement already satisfied: brotli>=1.1.0 in c:\\users\\dtlee\\anaconda3\\lib\\site-packages (from py7zr->voxel51-eta<0.13,>=0.12.6->fiftyone==0.24.1) (1.1.0)\n",
      "Requirement already satisfied: charset-normalizer<4,>=2 in c:\\users\\dtlee\\anaconda3\\lib\\site-packages (from requests->voxel51-eta<0.13,>=0.12.6->fiftyone==0.24.1) (2.0.4)\n",
      "Requirement already satisfied: torch in c:\\users\\dtlee\\anaconda3\\lib\\site-packages (2.4.0)\n",
      "Requirement already satisfied: torchvision in c:\\users\\dtlee\\anaconda3\\lib\\site-packages (0.19.0)\n",
      "Requirement already satisfied: torchaudio in c:\\users\\dtlee\\anaconda3\\lib\\site-packages (2.4.0)\n",
      "Requirement already satisfied: filelock in c:\\users\\dtlee\\anaconda3\\lib\\site-packages (from torch) (3.13.1)\n",
      "Requirement already satisfied: typing-extensions>=4.8.0 in c:\\users\\dtlee\\anaconda3\\lib\\site-packages (from torch) (4.11.0)\n",
      "Requirement already satisfied: sympy in c:\\users\\dtlee\\anaconda3\\lib\\site-packages (from torch) (1.12)\n",
      "Requirement already satisfied: networkx in c:\\users\\dtlee\\anaconda3\\lib\\site-packages (from torch) (3.2.1)\n",
      "Requirement already satisfied: jinja2 in c:\\users\\dtlee\\anaconda3\\lib\\site-packages (from torch) (3.0.3)\n",
      "Requirement already satisfied: fsspec in c:\\users\\dtlee\\appdata\\roaming\\python\\python312\\site-packages (from torch) (2024.3.1)\n",
      "Requirement already satisfied: setuptools in c:\\users\\dtlee\\anaconda3\\lib\\site-packages (from torch) (69.5.1)\n",
      "Requirement already satisfied: numpy<2 in c:\\users\\dtlee\\anaconda3\\lib\\site-packages (from torchvision) (1.26.4)\n",
      "Requirement already satisfied: pillow!=8.3.*,>=5.3.0 in c:\\users\\dtlee\\anaconda3\\lib\\site-packages (from torchvision) (10.3.0)\n",
      "Requirement already satisfied: MarkupSafe>=2.0 in c:\\users\\dtlee\\anaconda3\\lib\\site-packages (from jinja2->torch) (2.1.3)\n",
      "Requirement already satisfied: mpmath>=0.19 in c:\\users\\dtlee\\anaconda3\\lib\\site-packages (from sympy->torch) (1.3.0)\n"
     ]
    }
   ],
   "source": [
    "! pip install fiftyone==0.24.1\n",
    "! pip install torch torchvision torchaudio\n"
   ]
  },
  {
   "cell_type": "markdown",
   "id": "fb9afb40",
   "metadata": {
    "id": "fb9afb40"
   },
   "source": [
    "Load dữ liệu keyframe từ thư mục chứa keyframe. Mỗi ảnh và thông tin đi kèm sau này sẽ được lưu trữ trong một Sample. Tất cả các Sample được lưu trong Dataset."
   ]
  },
  {
   "cell_type": "code",
   "execution_count": 3,
   "id": "357d4489",
   "metadata": {
    "id": "357d4489"
   },
   "outputs": [],
   "source": [
    "import fiftyone as fo\n",
    "import fiftyone.brain as fob\n",
    "import numpy as np\n",
    "from glob import glob\n",
    "import json\n",
    "import os\n",
    "\n"
   ]
  },
  {
   "cell_type": "markdown",
   "id": "36b7ba43",
   "metadata": {
    "id": "36b7ba43"
   },
   "source": [
    "Load dữ liệu keyframe từ thư mục chứa keyframe. Trong hướng dẫn này tất cả các file Keyframes_L*.zip được giải nén vào thư mục `D:\\AIC\\Keyframes`. Mỗi ảnh và thông tin đi kèm sau này sẽ được lưu trữ trong một `Sample`. Tất cả các `Sample` được lưu trong `Dataset`."
   ]
  },
  {
   "cell_type": "code",
   "execution_count": 57,
   "id": "9e072688",
   "metadata": {
    "id": "9e072688"
   },
   "outputs": [
    {
     "name": "stdout",
     "output_type": "stream",
     "text": []
    },
    {
     "name": "stdout",
     "output_type": "stream",
     "text": [
      " 100% |███████████████| 7658/7658 [1.2s elapsed, 0s remaining, 6.2K samples/s]         \n"
     ]
    }
   ],
   "source": [
    "dataset = fo.Dataset.from_images_dir('D:\\\\AICBaseline\\\\KeyFrames_L01\\\\keyframes', name=None, tags=None, recursive=True)"
   ]
  },
  {
   "cell_type": "markdown",
   "id": "9b89e71c",
   "metadata": {
    "id": "9b89e71c"
   },
   "source": [
    "Sau khi dữ liệu đã load lên xong. Bạn có thể truy cập vào đường vào ứng dụng web của fiftyone từ [http://localhost:5151](http://localhost:5151)"
   ]
  },
  {
   "cell_type": "code",
   "execution_count": 59,
   "id": "58be11b8",
   "metadata": {
    "id": "58be11b8"
   },
   "outputs": [
    {
     "name": "stdout",
     "output_type": "stream",
     "text": [
      "Session launched. Run `session.show()` to open the App in a cell output.\n"
     ]
    }
   ],
   "source": [
    "session = fo.launch_app(dataset, auto=False)"
   ]
  },
  {
   "cell_type": "markdown",
   "id": "078ce744",
   "metadata": {
    "id": "078ce744"
   },
   "source": [
    "Hoặc bạn có thể chạy cell bên dưới để mở tab mới cho ứng dụng web fiftyone"
   ]
  },
  {
   "cell_type": "code",
   "execution_count": 11,
   "id": "bce0d9ce",
   "metadata": {
    "id": "bce0d9ce"
   },
   "outputs": [
    {
     "data": {
      "application/javascript": [
       "window.open('http://localhost:5151/');"
      ],
      "text/plain": [
       "<IPython.core.display.Javascript object>"
      ]
     },
     "metadata": {},
     "output_type": "display_data"
    }
   ],
   "source": [
    "session.open_tab()"
   ]
  },
  {
   "cell_type": "markdown",
   "id": "28298924",
   "metadata": {
    "id": "28298924"
   },
   "source": [
    "### Trích xuất thêm thông tin tên của video và frameid\n",
    "Thông tin `video` và `frameid` sẽ được lấy từ tên của tập tin keyframe."
   ]
  },
  {
   "cell_type": "code",
   "execution_count": 61,
   "id": "a8ee02ad",
   "metadata": {
    "id": "a8ee02ad"
   },
   "outputs": [],
   "source": [
    "for sample in dataset:\n",
    "    _, sample['video'], sample['frameid'] = sample['filepath'][:-4].rsplit('\\\\', 2)\n",
    "    sample.save()"
   ]
  },
  {
   "cell_type": "markdown",
   "id": "11d66008",
   "metadata": {
    "id": "11d66008"
   },
   "source": [
    "Bạn có thể xem `Sample` đầu tiên của `Dataset` bằng lệnh sau:"
   ]
  },
  {
   "cell_type": "code",
   "execution_count": 63,
   "id": "6997ef1c",
   "metadata": {
    "id": "6997ef1c"
   },
   "outputs": [
    {
     "name": "stdout",
     "output_type": "stream",
     "text": [
      "<Sample: {\n",
      "    'id': '66b81e861c1021e87278f18d',\n",
      "    'media_type': 'image',\n",
      "    'filepath': 'D:\\\\AICBaseline\\\\Keyframes_L01\\\\keyframes\\\\L01_V001\\\\0001.jpg',\n",
      "    'tags': [],\n",
      "    'metadata': None,\n",
      "    'video': 'L01_V001',\n",
      "    'frameid': '0001',\n",
      "}>\n"
     ]
    }
   ],
   "source": [
    "print(dataset.first())"
   ]
  },
  {
   "cell_type": "markdown",
   "id": "4309a34f",
   "metadata": {
    "id": "4309a34f"
   },
   "source": [
    "### Thêm thông tin kết quả của object detection.\n",
    "\n",
    "Bước này có thể tốn của bạn nhiều thời gian để đọc hết tất cả các dữ liệu về object detection. Bạn có thể bỏ qua cell này và chạy cell này sau nếu muốn thử thêm các thông tin về vector CLIP embedding trước."
   ]
  },
  {
   "cell_type": "code",
   "execution_count": 66,
   "id": "ad1c4395",
   "metadata": {
    "id": "ad1c4395"
   },
   "outputs": [],
   "source": [
    "for sample in dataset:\n",
    "    object_path = f\"D:\\\\AICBaseline\\\\objects-sample\\\\objects\\\\{sample['video']}\\\\{sample['frameid']}.json\"\n",
    "    with open(object_path) as jsonfile:\n",
    "        det_data = json.load(jsonfile)\n",
    "    detections = []\n",
    "    for cls, box, score in zip(det_data['detection_class_entities'], det_data['detection_boxes'], det_data['detection_scores']):\n",
    "        # Convert to [top-left-x, top-left-y, width, height]\n",
    "        boxf = [float(box[1]), float(box[0]), float(box[3]) - float(box[1]), float(box[2]) - float(box[0])]\n",
    "        scoref = float(score)\n",
    "\n",
    "        # Only add objects with confidence > 0.4\n",
    "        if scoref > 0.4:\n",
    "            detections.append(\n",
    "                fo.Detection(\n",
    "                    label=cls,\n",
    "                    bounding_box= boxf,\n",
    "                    confidence=float(score)\n",
    "                )\n",
    "            )\n",
    "    sample[\"object_faster_rcnn\"] = fo.Detections(detections=detections)\n",
    "    sample.save()\n"
   ]
  },
  {
   "cell_type": "markdown",
   "id": "e287dbb4",
   "metadata": {
    "id": "e287dbb4"
   },
   "source": [
    "### Thêm thông tin CLIP embedding."
   ]
  },
  {
   "cell_type": "code",
   "execution_count": 80,
   "id": "58d5d9ca",
   "metadata": {
    "id": "58d5d9ca"
   },
   "outputs": [],
   "source": [
    "all_keyframe = glob('D:\\\\AICBaseline\\\\KeyFrames_L01\\\\keyframes\\\\*\\\\*.jpg')\n",
    "video_keyframe_dict = {}\n",
    "all_video = glob('D:\\\\AICBaseline\\\\KeyFrames_L01\\\\keyframes\\\\*')\n",
    "all_video = [v.rsplit('\\\\',1)[-1] for v in all_video]"
   ]
  },
  {
   "cell_type": "markdown",
   "id": "53460b70",
   "metadata": {
    "id": "53460b70"
   },
   "source": [
    "Đọc thông tin clip embedding được cung cấp.\n",
    "\n",
    "Lưu ý: Các bạn cần tải đúng bản CLIP embedding từ model **CLIP ViT-B/32**"
   ]
  },
  {
   "cell_type": "markdown",
   "id": "cb927629",
   "metadata": {
    "id": "cb927629"
   },
   "source": [
    "Tạo dictionary `video_keyframe_dict` với `video_keyframe_dict[video]` thông tin danh sách `keyframe` của `video`"
   ]
  },
  {
   "cell_type": "code",
   "execution_count": 84,
   "id": "f33da133",
   "metadata": {
    "id": "f33da133"
   },
   "outputs": [],
   "source": [
    "for kf in all_keyframe:\n",
    "    _, vid, kf = kf[:-4].rsplit('\\\\',2)\n",
    "    if vid not in video_keyframe_dict.keys():\n",
    "        video_keyframe_dict[vid] = [kf]\n",
    "    else:\n",
    "        video_keyframe_dict[vid].append(kf)"
   ]
  },
  {
   "cell_type": "markdown",
   "id": "faefe0bf",
   "metadata": {
    "id": "faefe0bf"
   },
   "source": [
    "Do thông tin vector CLIP embedding được cung cấp được lưu theo từng video nhầm mục đích tối ưu thời gian đọc dữ liệu. Cần sort lại danh sách `keyframe` của từng `video` để đảm bảo thứ tự đọc đúng với vector embedding được cung cấp."
   ]
  },
  {
   "cell_type": "code",
   "execution_count": 87,
   "id": "4b0fad7a",
   "metadata": {
    "id": "4b0fad7a"
   },
   "outputs": [],
   "source": [
    "for k,v in video_keyframe_dict.items():\n",
    "    video_keyframe_dict[k] = sorted(v)"
   ]
  },
  {
   "cell_type": "markdown",
   "id": "9d99d121",
   "metadata": {
    "id": "9d99d121"
   },
   "source": [
    "Tạo dictionary `embedding_dict` với `embedding_dict[video][keyframe]` lưu thông tin vector CLIP embedding của `keyframe` trong `video` tương ứng"
   ]
  },
  {
   "cell_type": "code",
   "execution_count": 90,
   "id": "a5d94d7b",
   "metadata": {
    "id": "a5d94d7b"
   },
   "outputs": [],
   "source": [
    "embedding_dict = {}\n",
    "for v in all_video:\n",
    "    clip_path = f'D:\\\\AICBaseline\\\\clip-features-vit-b32-sample\\\\clip-features\\\\{v}.npy'\n",
    "    a = np.load(clip_path)\n",
    "    embedding_dict[v] = {}\n",
    "    for i,k in enumerate(video_keyframe_dict[v]):\n",
    "        embedding_dict[v][k] = a[i]\n"
   ]
  },
  {
   "cell_type": "markdown",
   "id": "5ea0432e",
   "metadata": {
    "id": "5ea0432e"
   },
   "source": [
    "Tạo danh sách `clip_embedding` ứng với danh sách `sample` trong `dataset`."
   ]
  },
  {
   "cell_type": "code",
   "execution_count": 92,
   "id": "1ad16b5c",
   "metadata": {
    "id": "1ad16b5c"
   },
   "outputs": [],
   "source": [
    "clip_embeddings = []\n",
    "for sample in dataset:\n",
    "    clip_embedding = embedding_dict[sample['video']][sample['frameid']]\n",
    "    clip_embeddings.append(clip_embedding)\n"
   ]
  },
  {
   "cell_type": "code",
   "execution_count": 93,
   "id": "33389802-2683-4ff7-a514-6ba2f42a18c1",
   "metadata": {},
   "outputs": [
    {
     "data": {
      "text/plain": [
       "dict_keys(['L01_V001', 'L01_V002', 'L01_V003', 'L01_V004', 'L01_V005', 'L01_V006', 'L01_V007', 'L01_V008', 'L01_V009', 'L01_V010', 'L01_V011', 'L01_V012', 'L01_V013', 'L01_V014', 'L01_V015', 'L01_V016', 'L01_V017', 'L01_V018', 'L01_V019', 'L01_V020', 'L01_V021', 'L01_V022', 'L01_V023', 'L01_V024', 'L01_V025', 'L01_V026', 'L01_V027', 'L01_V028', 'L01_V029', 'L01_V030', 'L01_V031'])"
      ]
     },
     "execution_count": 93,
     "metadata": {},
     "output_type": "execute_result"
    }
   ],
   "source": [
    "embedding_dict.keys()"
   ]
  },
  {
   "cell_type": "code",
   "execution_count": 94,
   "id": "655d2feb",
   "metadata": {
    "id": "655d2feb"
   },
   "outputs": [
    {
     "data": {
      "text/plain": [
       "<fiftyone.brain.internal.core.sklearn.SklearnSimilarityIndex at 0x21304feb0b0>"
      ]
     },
     "execution_count": 94,
     "metadata": {},
     "output_type": "execute_result"
    }
   ],
   "source": [
    "fob.compute_similarity(\n",
    "    dataset,\n",
    "    model=\"clip-vit-base32-torch\",      # store model's name for future use\n",
    "    embeddings=clip_embeddings,          # precomputed image embeddings\n",
    "    brain_key=\"img_sim\",\n",
    ")"
   ]
  },
  {
   "cell_type": "markdown",
   "id": "99223338",
   "metadata": {
    "id": "99223338"
   },
   "source": [
    "## Từ đây các bạn có thể thử các tính năng search, filter trên ứng dụng fiftyone."
   ]
  },
  {
   "cell_type": "code",
   "execution_count": null,
   "id": "46605386",
   "metadata": {
    "id": "46605386"
   },
   "outputs": [],
   "source": [
    "# Bạn cần phải cài version umap-learn hỗ trợ.\n",
    "# fob.compute_visualization(\n",
    "#     dataset,\n",
    "#     embeddings=clip_embeddings,\n",
    "#     brain_key=\"img_viz\"\n",
    "# )\n"
   ]
  },
  {
   "cell_type": "markdown",
   "id": "381972d8",
   "metadata": {
    "id": "381972d8"
   },
   "source": []
  }
 ],
 "metadata": {
  "colab": {
   "provenance": []
  },
  "kernelspec": {
   "display_name": "Python 3 (ipykernel)",
   "language": "python",
   "name": "python3"
  },
  "language_info": {
   "codemirror_mode": {
    "name": "ipython",
    "version": 3
   },
   "file_extension": ".py",
   "mimetype": "text/x-python",
   "name": "python",
   "nbconvert_exporter": "python",
   "pygments_lexer": "ipython3",
   "version": "3.12.4"
  }
 },
 "nbformat": 4,
 "nbformat_minor": 5
}
